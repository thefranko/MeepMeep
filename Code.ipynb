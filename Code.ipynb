{
 "cells": [
  {
   "cell_type": "code",
   "execution_count": 9,
   "id": "5860e98e-f01a-4275-881e-70f0730e5b68",
   "metadata": {},
   "outputs": [
    {
     "name": "stdout",
     "output_type": "stream",
     "text": [
      "This magical program can guess your name and age!!\n"
     ]
    },
    {
     "name": "stdin",
     "output_type": "stream",
     "text": [
      "Please enter your name James\n",
      "Please enter your age john\n"
     ]
    },
    {
     "name": "stdout",
     "output_type": "stream",
     "text": [
      "Nope, age has to be a number\n"
     ]
    },
    {
     "name": "stdin",
     "output_type": "stream",
     "text": [
      "Please enter your age 344\n"
     ]
    },
    {
     "name": "stdout",
     "output_type": "stream",
     "text": [
      "Your name is James and your age is 344, EVEN I know that\n"
     ]
    }
   ],
   "source": [
    "print(\"This magical program can guess your name and age!!\")\n",
    "name = input(\"Please enter your name\")\n",
    "needInput = True\n",
    "while (needInput):\n",
    "    try:\n",
    "        age = int(input(\"Please enter your age\"))\n",
    "        needInput = False\n",
    "    except ValueError:\n",
    "        print(\"Nope, age has to be a number\")\n",
    "\n",
    "if age % 2 == 0:\n",
    "    print(f\"Your name is {name} and your age is {age}, EVEN I know that.\")\n",
    "else:\n",
    "    print(f\"Your name is {name} and your age is {age} ODD that you thought I couldn't guess that.\")\n"
   ]
  },
  {
   "cell_type": "code",
   "execution_count": null,
   "id": "eadbeff1-5e11-402b-9f02-137b229c7f3e",
   "metadata": {},
   "outputs": [],
   "source": []
  }
 ],
 "metadata": {
  "kernelspec": {
   "display_name": "Python 3 (ipykernel)",
   "language": "python",
   "name": "python3"
  },
  "language_info": {
   "codemirror_mode": {
    "name": "ipython",
    "version": 3
   },
   "file_extension": ".py",
   "mimetype": "text/x-python",
   "name": "python",
   "nbconvert_exporter": "python",
   "pygments_lexer": "ipython3",
   "version": "3.11.13"
  }
 },
 "nbformat": 4,
 "nbformat_minor": 5
}
